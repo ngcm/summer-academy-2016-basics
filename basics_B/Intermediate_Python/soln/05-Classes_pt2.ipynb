{
 "cells": [
  {
   "cell_type": "markdown",
   "metadata": {},
   "source": [
    "# Python OOP 2: Inheritance and Magic Methods"
   ]
  },
  {
   "cell_type": "markdown",
   "metadata": {},
   "source": [
    "The purpose of this exercise is to test your new found knowledge of inheritance using the classical example of shapes. You have been given the base class (`AbstractShape`) which has some common functions for certain derived shapes, such as a triangle and a rectangle. "
   ]
  },
  {
   "cell_type": "code",
   "execution_count": 1,
   "metadata": {
    "collapsed": false
   },
   "outputs": [
    {
     "data": {
      "text/html": [
       "/* \n",
       "* @Author: paul\n",
       "* @Date:   2016-02-25 17:35:32\n",
       "* @Last Modified by:   paul\n",
       "* @Last Modified time: 2016-02-25 17:45:54\n",
       "*/\n",
       "<link href='http://fonts.googleapis.com/css?family=Open+Sans:100,300,400,500,700,800,900,100italic,300italic,400italic,500italic,700italic,800italic,900italic' rel='stylesheet' type='text/css'>\n",
       "<link href='http://fonts.googleapis.com/css?family=Arvo:400,700,400italic' rel='stylesheet' type='text/css'>\n",
       "<link href='http://fonts.googleapis.com/css?family=PT+Mono' rel='stylesheet' type='text/css'>\n",
       "<link href='http://fonts.googleapis.com/css?family=Shadows+Into+Light' rel='stylesheet' type='text/css'>\n",
       "<link href='http://fonts.googleapis.com/css?family=Nixie+One' rel='stylesheet' type='text/css'>\n",
       "<style>\n",
       "\n",
       "@font-face {\n",
       "    font-family: \"Computer Modern\";\n",
       "    src: url('http://mirrors.ctan.org/fonts/cm-unicode/fonts/otf/cmunss.otf');\n",
       "}\n",
       "\n",
       "#notebook_panel { /* main background */\n",
       "    background: rgb(245,245,245);\n",
       "}\n",
       "\n",
       "div.cell { /* set cell width */\n",
       "    width: 1000px;\n",
       "}\n",
       "\n",
       "div #notebook { /* centre the content */\n",
       "    background: #fff; /* white background for content */\n",
       "    width: 1200px;\n",
       "    margin: auto;\n",
       "    padding-left: 0em;\n",
       "}\n",
       "\n",
       "#notebook li { /* More space between bullet points */\n",
       "margin-top:0.8em;\n",
       "}\n",
       "\n",
       "/* draw border around running cells */\n",
       "div.cell.border-box-sizing.code_cell.running { \n",
       "    border: 1px solid #111;\n",
       "}\n",
       "\n",
       "/* Put a solid color box around each cell and its output, visually linking them*/\n",
       "div.cell.code_cell {\n",
       "    background-color: rgb(256,256,256); \n",
       "    border-radius: 0px; \n",
       "    padding: 0.5em;\n",
       "    margin-left:1em;\n",
       "    margin-top: 1em;\n",
       "}\n",
       "\n",
       "div.text_cell_render{\n",
       "    font-family: 'Open Sans' sans-serif;\n",
       "    line-height: 140%;\n",
       "    font-size: 125%;\n",
       "    font-weight: 400;\n",
       "    width:900px;\n",
       "    margin-left:auto;\n",
       "    margin-right:auto;\n",
       "}\n",
       "\n",
       "\n",
       "/* Formatting for header cells */\n",
       ".text_cell_render h1 {\n",
       "    font-family: 'Arvo', serif;\n",
       "    font-style:regular;\n",
       "    font-weight: 400;    \n",
       "    font-size: 45pt;\n",
       "    line-height: 100%;\n",
       "    color: rgb(0,51,102);\n",
       "    margin-bottom: 0.5em;\n",
       "    margin-top: 0.5em;\n",
       "    display: block;\n",
       "}\t\n",
       ".text_cell_render h2 {\n",
       "    font-family: 'Arvo', serif;\n",
       "    font-weight: 400;\n",
       "    font-size: 30pt;\n",
       "    line-height: 100%;\n",
       "    color: rgb(0,51,102);\n",
       "    margin-bottom: 0.1em;\n",
       "    margin-top: 0.3em;\n",
       "    display: block;\n",
       "}\t\n",
       "\n",
       ".text_cell_render h3 {\n",
       "    font-family: 'Arvo', serif;\n",
       "    margin-top:16px;\n",
       "\tfont-size: 22pt;\n",
       "    font-weight: 600;\n",
       "    margin-bottom: 3px;\n",
       "    font-style: regular;\n",
       "    color: rgb(102,102,0);\n",
       "}\n",
       "\n",
       ".text_cell_render h4 {    /*Use this for captions*/\n",
       "    font-family: 'Arvo', serif;\n",
       "    font-size: 14pt;\n",
       "    text-align: center;\n",
       "    margin-top: 0em;\n",
       "    margin-bottom: 2em;\n",
       "    font-style: regular;\n",
       "}\n",
       "\n",
       ".text_cell_render h5 {  /*Use this for small titles*/\n",
       "    font-family: 'Arvo', sans-serif;\n",
       "    font-weight: 400;\n",
       "    font-size: 16pt;\n",
       "    color: rgb(163,0,0);\n",
       "    font-style: italic;\n",
       "    margin-bottom: .1em;\n",
       "    margin-top: 0.8em;\n",
       "    display: block;\n",
       "}\n",
       "\n",
       ".text_cell_render h6 { /*use this for copyright note*/\n",
       "    font-family: 'PT Mono', sans-serif;\n",
       "    font-weight: 300;\n",
       "    font-size: 9pt;\n",
       "    line-height: 100%;\n",
       "    color: grey;\n",
       "    margin-bottom: 1px;\n",
       "    margin-top: 1px;\n",
       "}\n",
       "\n",
       ".CodeMirror{\n",
       "        font-family: \"PT Mono\";\n",
       "        font-size: 90%;\n",
       "}\n",
       "\n",
       "</style>\n",
       "<script>\n",
       "    MathJax.Hub.Config({\n",
       "                        TeX: {\n",
       "                           extensions: [\"AMSmath.js\"],\n",
       "                           equationNumbers: { autoNumber: \"AMS\", useLabelIds: true}\n",
       "                           },\n",
       "                tex2jax: {\n",
       "                    inlineMath: [ ['$','$'], [\"\\\\(\",\"\\\\)\"] ],\n",
       "                    displayMath: [ ['$$','$$'], [\"\\\\[\",\"\\\\]\"] ]\n",
       "                },\n",
       "                displayAlign: 'center', // Change this to 'center' to center equations.\n",
       "                \"HTML-CSS\": {\n",
       "                    styles: {'.MathJax_Display': {\"margin\": 4}}\n",
       "                }\n",
       "        });\n",
       "</script>"
      ],
      "text/plain": [
       "<IPython.core.display.HTML object>"
      ]
     },
     "execution_count": 1,
     "metadata": {},
     "output_type": "execute_result"
    }
   ],
   "source": [
    "from IPython.core.display import HTML\n",
    "def css_styling():\n",
    "    sheet = '../css/custom.css'\n",
    "    styles = open(sheet, \"r\").read() \n",
    "    return HTML(styles)\n",
    "css_styling()"
   ]
  },
  {
   "cell_type": "markdown",
   "metadata": {},
   "source": [
    "## Tasks\n",
    "\n",
    "1. Create a Rectangle class which also derives for AbstractShape, with methods\n",
    "    * **`__init__`(self, base, height, center)**, which ONLY passes all arguments to the base class `__init__` via \n",
    "        \n",
    "           super().__init__(base, height, center)\n",
    "\n",
    "    * **get_vertices(self)**, which calculates and returns an array of vertices.\n",
    "        - vertices should contain the vertex (x,y) points of a rectangle centered at the center point `self.center`: numpy array with shape (4,2)\n",
    "        - Note that self.vertices in stored in the base class using a call to this method!\n",
    "        - **If you're struggling, the contents of this function are provided at the end of this notebook**\n",
    "    * **get_area(self)**, which calculates and returns the area of self (use attributes, not inputs)\n",
    "    \n",
    "    * Points to note:\n",
    "         - The code for testing this class has been provided for you\n",
    "         - Try to understand the order in which the initialisation functions are called.\n",
    "         - Which methods are being called (from which classes) in the base initialiser?\n",
    "\n",
    "2. Repeat 1. above for a Triangle class\n",
    "    * Class layout is identical, but **get_vertices** and **get_area** different\n",
    "    * The center point of the triangle should be the center point of the base line\n",
    "    * **If you're struggling, the contents of this function are provided at the end of this notebook**\n",
    "\n",
    "3. You have also been given a `Cuboid` class which has inherited a plot method, but this will plot only the 2D square\n",
    "    * Override the **plot(self, ax)** method to scatter self.vertices (x, y, z) on the input axes\n",
    "    - Note that the input axes given in the test code are already 3D axes - you do not need to implement this\n",
    "\n",
    "4. See the end of this notebook for the magic methods extension"
   ]
  },
  {
   "cell_type": "code",
   "execution_count": 2,
   "metadata": {
    "collapsed": false
   },
   "outputs": [],
   "source": [
    "import numpy as np\n",
    "import matplotlib.pyplot as plt\n",
    "from mpl_toolkits.mplot3d import Axes3D\n",
    "from mpl_toolkits.mplot3d.art3d import Poly3DCollection\n",
    "%matplotlib inline"
   ]
  },
  {
   "cell_type": "code",
   "execution_count": 3,
   "metadata": {
    "collapsed": false
   },
   "outputs": [],
   "source": [
    "class AbstractShape(object):\n",
    "    \"\"\"A class that shares common methods between rectangles and triangles:\n",
    "\n",
    "    Note that some methods raise an error - what we are doing here is \n",
    "    actually creating 'abstract methods' which helps achieve a consistent\n",
    "    API through all derived classes => This is Polymorphism!\n",
    "    \n",
    "    See example 07-PredatorPrey for a more robust way of defining abstract \n",
    "    base classes\n",
    "    \"\"\"\n",
    "    def __init__(self, base, height, center):\n",
    "        # Add all args as attributes- there are quicker/better ways\n",
    "        # of doing this, but this is fine\n",
    "        self.base = base\n",
    "        self.height = height\n",
    "        self.center = center\n",
    "        \n",
    "        # Call some methods: This will do nothing unless the methods are \n",
    "        # defined in the base classes!\n",
    "        self.vertices = self.get_vertices()\n",
    "        self.area = self.get_area()\n",
    "\n",
    "        \n",
    "    def plot(self, ax):\n",
    "        # First point must be repeated for a closed plot\n",
    "        x = np.hstack([self.vertices[:, 0], self.vertices[0, 0]])\n",
    "        y = np.hstack([self.vertices[:, 1], self.vertices[0, 1]])\n",
    "\n",
    "        ax.plot(x, y, '-')\n",
    "    \n",
    "    def get_vertices(self):\n",
    "        raise NotImplementedError('Base class method should not be called directly')\n",
    "\n",
    "    def get_area(self):\n",
    "        raise NotImplementedError('Base class method should not be called directly')\n",
    "    \n",
    "    # Magic methods extension\n",
    "    def __str__(self):\n",
    "        return \"Shape object - base={}, height={}, Area={}\".format(self.base, self.height, self.area)\n",
    "\n",
    "    def __lt__(self, shape):\n",
    "        return self.area < shape.area\n",
    "\n",
    "# Your classes here\n",
    "class Rectangle(AbstractShape):\n",
    "    def __init__(self, base=1, height=1, center=(0., 0.)):\n",
    "        super().__init__(base, height, center)\n",
    "    \n",
    "    def get_vertices(self):\n",
    "        pts = np.ones([4, 2]) * self.center\n",
    "        xshift = self.base / 2.\n",
    "        yshift = self.height / 2.\n",
    "        pts[0,:] += np.array([-xshift, -yshift])\n",
    "        pts[1,:] += np.array([xshift, -yshift])\n",
    "        pts[2,:] += np.array([xshift, yshift])\n",
    "        pts[3,:] += np.array([-xshift, yshift])\n",
    "        return pts\n",
    "    \n",
    "    def get_area(self):\n",
    "        return self.base * self.height\n",
    "\n",
    "\n",
    "class Triangle(AbstractShape):\n",
    "    def __init__(self, base=1, height=1, center=(0., 0.)):\n",
    "        \"\"\"Obtain the vertices of a triangle (isosceles) given its\n",
    "        base, height and the coordinates of the base line mid point\"\"\"\n",
    "        super().__init__(base, height, center)\n",
    "\n",
    "    def get_vertices(self):\n",
    "        pts = np.ones([3, 2]) * self.center\n",
    "        pts[0,:] += np.array([-self.base/2., 0])\n",
    "        pts[1,:] += np.array([self.base/2., 0])\n",
    "        pts[2,:] += np.array([0, self.height])\n",
    "        return pts\n",
    "        \n",
    "    def get_area(self):\n",
    "        return 0.5 * self.base * self.height\n",
    "\n",
    "\n",
    "# Extension    \n",
    "class Cuboid(Rectangle):\n",
    "    def __init__(self, base, height, depth, center):\n",
    "        self.depth = depth\n",
    "        super().__init__(base, height, center)\n",
    "    \n",
    "    def get_vertices(self):\n",
    "        base2d = super().get_vertices()\n",
    "        midplane = np.zeros([4,3])\n",
    "        midplane[:,:-1] = base2d\n",
    "        zshift = np.array([0, 0, self.depth/2.])\n",
    "        lower_plane = midplane - zshift\n",
    "        upper_plane = midplane + zshift\n",
    "        return np.vstack([lower_plane, upper_plane])\n",
    "\n",
    "    def plot(self, ax):\n",
    "        ax.scatter(self.vertices[:,0], self.vertices[:,1], self.vertices[:,2])\n",
    "\n",
    "\n",
    "# Helper functions:\n",
    "\n",
    "def init_figure():\n",
    "    fig = plt.figure()\n",
    "    ax = fig.add_subplot(111)\n",
    "    plt.axis('equal')\n",
    "    return fig, ax\n",
    "\n",
    "def init_3dfigure():\n",
    "    fig = plt.figure()\n",
    "    ax = fig.add_subplot(111, projection='3d')\n",
    "    return fig, ax"
   ]
  },
  {
   "cell_type": "code",
   "execution_count": 4,
   "metadata": {
    "collapsed": false
   },
   "outputs": [
    {
     "data": {
      "image/png": "[encoded data removed]",
      "text/plain": [
       "<matplotlib.figure.Figure at 0x7f369edc3a20>"
      ]
     },
     "metadata": {},
     "output_type": "display_data"
    }
   ],
   "source": [
    "# Test code for the rectangle class:\n",
    "fig, ax = init_figure()\n",
    "for i in range(1,5):\n",
    "    rect = Rectangle(base=i, height=i, center=(0.,0.))\n",
    "    rect.plot(ax)"
   ]
  },
  {
   "cell_type": "code",
   "execution_count": 5,
   "metadata": {
    "collapsed": false
   },
   "outputs": [
    {
     "data": {
      "image/png": "[encoded data removed]",
      "text/plain": [
       "<matplotlib.figure.Figure at 0x7f36d1ce3208>"
      ]
     },
     "metadata": {},
     "output_type": "display_data"
    }
   ],
   "source": [
    "# Test code for the triangle class:\n",
    "fig, ax = init_figure()\n",
    "\n",
    "for height in range(1,5):\n",
    "    tri = Triangle(base=4, height=height, center=(0.,0.))\n",
    "    tri.plot(ax)"
   ]
  },
  {
   "cell_type": "code",
   "execution_count": 6,
   "metadata": {
    "collapsed": false
   },
   "outputs": [
    {
     "data": {
      "image/png": "[encoded data removed]",
      "text/plain": [
       "<matplotlib.figure.Figure at 0x7f369cc55278>"
      ]
     },
     "metadata": {},
     "output_type": "display_data"
    }
   ],
   "source": [
    "#Tests for the cuboid extension:\n",
    "fig, ax = init_3dfigure()\n",
    "\n",
    "cube = Cuboid(base=2, height=2, center=(0.,0.), depth=2)\n",
    "\n",
    "cube.plot(ax)"
   ]
  },
  {
   "cell_type": "markdown",
   "metadata": {},
   "source": [
    "## Magic Methods Extension\n",
    "\n",
    "1. Override the `__str__` magic method in the `AbstractShape` base class so that printing gives information about the area, base and height store in any shape instance\n",
    "\n",
    "2. Override the 'less than' magic method in the `AbstractShape` base class so that evaluating `shape1 < shape2` evaluates whether the area of shape 1 is less than shape 2"
   ]
  },
  {
   "cell_type": "code",
   "execution_count": 7,
   "metadata": {
    "collapsed": false
   },
   "outputs": [
    {
     "name": "stdout",
     "output_type": "stream",
     "text": [
      "Shape object - base=4, height=4, Area=16\n"
     ]
    }
   ],
   "source": [
    "# Test code for __str__\n",
    "square = Rectangle(4, 4, center=(0.,0.))\n",
    "print(square)               # Did this do what you expected?"
   ]
  },
  {
   "cell_type": "code",
   "execution_count": 8,
   "metadata": {
    "collapsed": false
   },
   "outputs": [
    {
     "data": {
      "text/plain": [
       "True"
      ]
     },
     "execution_count": 8,
     "metadata": {},
     "output_type": "execute_result"
    }
   ],
   "source": [
    "# Test code for iterator\n",
    "bigsquare = Rectangle(8, 8, (0.,0.))\n",
    "square < bigsquare"
   ]
  },
  {
   "cell_type": "markdown",
   "metadata": {},
   "source": [
    "## Cheat Sheet\n",
    "\n",
    "1. Code for `Triangle.get_vertices`:\n",
    "\n",
    "        pts = np.ones([3, 2]) * self.center\n",
    "        pts[0,:] += np.array([-self.base/2., 0])\n",
    "        pts[1,:] += np.array([self.base/2., 0])\n",
    "        pts[2,:] += np.array([0, self.height])\n",
    "        return pts\n",
    "\n",
    "2. Code for `Rectangle.get_vertices`:\n",
    "        pts = np.ones([4, 2]) * self.center\n",
    "        xshift = self.base / 2.\n",
    "        yshift = self.height / 2.\n",
    "        pts[0,:] += np.array([-xshift, -yshift])\n",
    "        pts[1,:] += np.array([xshift, -yshift])\n",
    "        pts[2,:] += np.array([xshift, yshift])\n",
    "        pts[3,:] += np.array([-xshift, yshift])\n",
    "        return pts"
   ]
  }
 ],
 "metadata": {
  "kernelspec": {
   "display_name": "Python 3",
   "language": "python",
   "name": "python3"
  },
  "language_info": {
   "codemirror_mode": {
    "name": "ipython",
    "version": 3
   },
   "file_extension": ".py",
   "mimetype": "text/x-python",
   "name": "python",
   "nbconvert_exporter": "python",
   "pygments_lexer": "ipython3",
   "version": "3.5.1"
  }
 },
 "nbformat": 4,
 "nbformat_minor": 0
}

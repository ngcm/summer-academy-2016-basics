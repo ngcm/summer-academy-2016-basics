{
 "cells": [
  {
   "cell_type": "code",
   "execution_count": 1,
   "metadata": {
    "collapsed": false
   },
   "outputs": [
    {
     "data": {
      "text/html": [
       "/* \n",
       "* @Author: paul\n",
       "* @Date:   2016-02-25 17:35:32\n",
       "* @Last Modified by:   paul\n",
       "* @Last Modified time: 2016-02-25 17:45:54\n",
       "*/\n",
       "<link href='http://fonts.googleapis.com/css?family=Open+Sans:100,300,400,500,700,800,900,100italic,300italic,400italic,500italic,700italic,800italic,900italic' rel='stylesheet' type='text/css'>\n",
       "<link href='http://fonts.googleapis.com/css?family=Arvo:400,700,400italic' rel='stylesheet' type='text/css'>\n",
       "<link href='http://fonts.googleapis.com/css?family=PT+Mono' rel='stylesheet' type='text/css'>\n",
       "<link href='http://fonts.googleapis.com/css?family=Shadows+Into+Light' rel='stylesheet' type='text/css'>\n",
       "<link href='http://fonts.googleapis.com/css?family=Nixie+One' rel='stylesheet' type='text/css'>\n",
       "<style>\n",
       "\n",
       "@font-face {\n",
       "    font-family: \"Computer Modern\";\n",
       "    src: url('http://mirrors.ctan.org/fonts/cm-unicode/fonts/otf/cmunss.otf');\n",
       "}\n",
       "\n",
       "#notebook_panel { /* main background */\n",
       "    background: rgb(245,245,245);\n",
       "}\n",
       "\n",
       "div.cell { /* set cell width */\n",
       "    width: 1000px;\n",
       "}\n",
       "\n",
       "div #notebook { /* centre the content */\n",
       "    background: #fff; /* white background for content */\n",
       "    width: 1200px;\n",
       "    margin: auto;\n",
       "    padding-left: 0em;\n",
       "}\n",
       "\n",
       "#notebook li { /* More space between bullet points */\n",
       "margin-top:0.8em;\n",
       "}\n",
       "\n",
       "/* draw border around running cells */\n",
       "div.cell.border-box-sizing.code_cell.running { \n",
       "    border: 1px solid #111;\n",
       "}\n",
       "\n",
       "/* Put a solid color box around each cell and its output, visually linking them*/\n",
       "div.cell.code_cell {\n",
       "    background-color: rgb(256,256,256); \n",
       "    border-radius: 0px; \n",
       "    padding: 0.5em;\n",
       "    margin-left:1em;\n",
       "    margin-top: 1em;\n",
       "}\n",
       "\n",
       "div.text_cell_render{\n",
       "    font-family: 'Open Sans' sans-serif;\n",
       "    line-height: 140%;\n",
       "    font-size: 125%;\n",
       "    font-weight: 400;\n",
       "    width:900px;\n",
       "    margin-left:auto;\n",
       "    margin-right:auto;\n",
       "}\n",
       "\n",
       "\n",
       "/* Formatting for header cells */\n",
       ".text_cell_render h1 {\n",
       "    font-family: 'Arvo', serif;\n",
       "    font-style:regular;\n",
       "    font-weight: 400;    \n",
       "    font-size: 45pt;\n",
       "    line-height: 100%;\n",
       "    color: rgb(0,51,102);\n",
       "    margin-bottom: 0.5em;\n",
       "    margin-top: 0.5em;\n",
       "    display: block;\n",
       "}\t\n",
       ".text_cell_render h2 {\n",
       "    font-family: 'Arvo', serif;\n",
       "    font-weight: 400;\n",
       "    font-size: 30pt;\n",
       "    line-height: 100%;\n",
       "    color: rgb(0,51,102);\n",
       "    margin-bottom: 0.1em;\n",
       "    margin-top: 0.3em;\n",
       "    display: block;\n",
       "}\t\n",
       "\n",
       ".text_cell_render h3 {\n",
       "    font-family: 'Arvo', serif;\n",
       "    margin-top:16px;\n",
       "\tfont-size: 22pt;\n",
       "    font-weight: 600;\n",
       "    margin-bottom: 3px;\n",
       "    font-style: regular;\n",
       "    color: rgb(102,102,0);\n",
       "}\n",
       "\n",
       ".text_cell_render h4 {    /*Use this for captions*/\n",
       "    font-family: 'Arvo', serif;\n",
       "    font-size: 14pt;\n",
       "    text-align: center;\n",
       "    margin-top: 0em;\n",
       "    margin-bottom: 2em;\n",
       "    font-style: regular;\n",
       "}\n",
       "\n",
       ".text_cell_render h5 {  /*Use this for small titles*/\n",
       "    font-family: 'Arvo', sans-serif;\n",
       "    font-weight: 400;\n",
       "    font-size: 16pt;\n",
       "    color: rgb(163,0,0);\n",
       "    font-style: italic;\n",
       "    margin-bottom: .1em;\n",
       "    margin-top: 0.8em;\n",
       "    display: block;\n",
       "}\n",
       "\n",
       ".text_cell_render h6 { /*use this for copyright note*/\n",
       "    font-family: 'PT Mono', sans-serif;\n",
       "    font-weight: 300;\n",
       "    font-size: 9pt;\n",
       "    line-height: 100%;\n",
       "    color: grey;\n",
       "    margin-bottom: 1px;\n",
       "    margin-top: 1px;\n",
       "}\n",
       "\n",
       ".CodeMirror{\n",
       "        font-family: \"PT Mono\";\n",
       "        font-size: 90%;\n",
       "}\n",
       "\n",
       "</style>\n",
       "<script>\n",
       "    MathJax.Hub.Config({\n",
       "                        TeX: {\n",
       "                           extensions: [\"AMSmath.js\"],\n",
       "                           equationNumbers: { autoNumber: \"AMS\", useLabelIds: true}\n",
       "                           },\n",
       "                tex2jax: {\n",
       "                    inlineMath: [ ['$','$'], [\"\\\\(\",\"\\\\)\"] ],\n",
       "                    displayMath: [ ['$$','$$'], [\"\\\\[\",\"\\\\]\"] ]\n",
       "                },\n",
       "                displayAlign: 'center', // Change this to 'center' to center equations.\n",
       "                \"HTML-CSS\": {\n",
       "                    styles: {'.MathJax_Display': {\"margin\": 4}}\n",
       "                }\n",
       "        });\n",
       "</script>"
      ],
      "text/plain": [
       "<IPython.core.display.HTML object>"
      ]
     },
     "execution_count": 1,
     "metadata": {},
     "output_type": "execute_result"
    }
   ],
   "source": [
    "from IPython.core.display import HTML\n",
    "def css_styling():\n",
    "    sheet = '../css/custom.css'\n",
    "    styles = open(sheet, \"r\").read() \n",
    "    return HTML(styles)\n",
    "css_styling()"
   ]
  },
  {
   "cell_type": "markdown",
   "metadata": {},
   "source": [
    "# Tuples and Dictionaries Exercise"
   ]
  },
  {
   "cell_type": "code",
   "execution_count": 2,
   "metadata": {
    "collapsed": false
   },
   "outputs": [],
   "source": [
    "import matplotlib.pyplot as plt\n",
    "import numpy as np\n",
    "import pickle\n",
    "%matplotlib inline"
   ]
  },
  {
   "cell_type": "markdown",
   "metadata": {},
   "source": [
    "The purpose of the exersise is to manipulate and plot the current weather of a number of European cities. The data has been downloaded from [Openweather](http://openweathermap.org/), and has been loaded for you below using the given function `read_weather`.\n",
    "\n",
    "The function returns a list of dictionaries, each of which contains the name of the cities along with a large number of the weather parameters. Before you start the exercise, print various parts of `Data` familiarise yourself with the content.\n"
   ]
  },
  {
   "cell_type": "code",
   "execution_count": 3,
   "metadata": {
    "collapsed": false
   },
   "outputs": [],
   "source": [
    "def read_weather():\n",
    "    with open('data/weather.pkl', 'rb') as f:\n",
    "        return pickle.load(f)"
   ]
  },
  {
   "cell_type": "code",
   "execution_count": 4,
   "metadata": {
    "collapsed": false
   },
   "outputs": [
    {
     "data": {
      "text/plain": [
       "{'clouds': {'all': 0},\n",
       " 'coord': {'lat': 55.75, 'lon': 37.62},\n",
       " 'dt': 1465311687,\n",
       " 'id': 524901,\n",
       " 'main': {'humidity': 53,\n",
       "  'pressure': 1013,\n",
       "  'temp': 281.44,\n",
       "  'temp_max': 283.15,\n",
       "  'temp_min': 279.82},\n",
       " 'name': 'Moscow',\n",
       " 'rain': {'1h': 1.02},\n",
       " 'sys': {'country': 'RU',\n",
       "  'id': 7323,\n",
       "  'message': 0.0307,\n",
       "  'sunrise': 1465260428,\n",
       "  'sunset': 1465322999,\n",
       "  'type': 1},\n",
       " 'visibility': 10000,\n",
       " 'weather': [{'description': 'light intensity shower rain',\n",
       "   'icon': '09d',\n",
       "   'id': 520,\n",
       "   'main': 'Rain'}],\n",
       " 'wind': {'deg': 340, 'speed': 7}}"
      ]
     },
     "execution_count": 4,
     "metadata": {},
     "output_type": "execute_result"
    }
   ],
   "source": [
    "# The file weather.pkl contains a list of dictionaries \n",
    "Data = read_weather()\n",
    "Data[0]"
   ]
  },
  {
   "cell_type": "markdown",
   "metadata": {},
   "source": [
    "### Part 1: Temperature\n",
    "\n",
    "1. We want to manipulate the data so it is easier to plot. Create a new dictionary with the country names as keys (`name` entries in `Data`) and the values being the tuple of `(lattitude, temperature)` corresponding to that country.\n",
    "    * *You will need a for loop*\n",
    "\n",
    "2. Plot the temperature of the cities (y) vs lattitude (x)\n",
    "    * You could either do this by scattering the data or using a for loop. The easier approach would be to use a for loop and the 'x' marker.\n",
    "    * Also try to add the city names to the scattered markers using `ax.annotate`\n",
    "    \n",
    "    Hint: Firstly try and plot the temperature with respect to a list starting from zero and then introduce the city names as ticks"
   ]
  },
  {
   "cell_type": "code",
   "execution_count": 5,
   "metadata": {
    "collapsed": false
   },
   "outputs": [
    {
     "name": "stdout",
     "output_type": "stream",
     "text": [
      "{'Berlin': (52.52, 302.65), 'Southampton': (50.9, 295.59), 'London': (51.51, 295.02), 'Kiev': (50.43, 287.81), 'Moscow': (55.75, 281.44)}\n"
     ]
    }
   ],
   "source": [
    "# Implement Q1 part 1 here:\n",
    "# -------------------------\n",
    "tempr_dict = {}\n",
    "\n",
    "for countrydata in Data: \n",
    "    tempr_dict[countrydata['name']] = (countrydata['coord']['lat'], countrydata['main']['temp'])\n",
    "\n",
    "print(tempr_dict)"
   ]
  },
  {
   "cell_type": "code",
   "execution_count": 6,
   "metadata": {
    "collapsed": false
   },
   "outputs": [],
   "source": [
    "# Run this cell to tests if you have completed part 1 correctly:\n",
    "assert(all(key in tempr_dict for key in ['Berlin', 'Kiev', 'London', 'Moscow', 'Southampton'])),\\\n",
    "    'keys of your weather dictionary should be Berlin, Kiev, London, Moscow, Southampton'\n",
    "\n",
    "assert(len(tempr_dict['Moscow']) == 2), \"Entries in your dictionary should be a tuple of two values\""
   ]
  },
  {
   "cell_type": "code",
   "execution_count": 7,
   "metadata": {
    "collapsed": false
   },
   "outputs": [
    {
     "data": {
      "text/plain": [
       "<matplotlib.text.Text at 0x7f8112e7def0>"
      ]
     },
     "execution_count": 7,
     "metadata": {},
     "output_type": "execute_result"
    },
    {
     "data": {
      "image/png": "[encoded data removed]",
      "text/plain": [
       "<matplotlib.figure.Figure at 0x7f81448cfc88>"
      ]
     },
     "metadata": {},
     "output_type": "display_data"
    }
   ],
   "source": [
    "# Part 2:\n",
    "fig = plt.figure(figsize=(12, 5))\n",
    "ax = fig.add_subplot(111)\n",
    "\n",
    "for name, value in tempr_dict.items():\n",
    "    ax.plot(value[0], value[1], 'bx')\n",
    "    ax.annotate(name, value)\n",
    "\n",
    "ax.set_title('City Temperatures')\n",
    "ax.set_xlabel('Latitude')\n",
    "ax.set_ylabel('Temp (K)')\n",
    "\n"
   ]
  },
  {
   "cell_type": "markdown",
   "metadata": {},
   "source": [
    "### Optional extension: Weather\n",
    "Temperature is not the only parameter in the data. By extending the code you wrote above, plot the remaining variables \n",
    "\n",
    "1. Instead of storing the value in your dictionary as `(lattitude, temp)`, use the tuple (`lattitude, main`) where `main` is the dictionary containing `temp`, `pressure` and `humidity` etc. entries from the original `Data` list\n",
    "\n",
    "2. Write a function which takes the weather dictionary and a string variable name (e.g. `'temp'`, `'pressure'`...) as arguments and plots the chosen variable against lattitude for all countries in the weather dictionary\n",
    "    * Start from your plotting code in the previous question"
   ]
  },
  {
   "cell_type": "code",
   "execution_count": 8,
   "metadata": {
    "collapsed": false
   },
   "outputs": [
    {
     "name": "stdout",
     "output_type": "stream",
     "text": [
      "{'Berlin': (52.52, {'humidity': 22, 'pressure': 1021, 'temp_max': 309.82, 'temp_min': 298.15, 'temp': 302.65}), 'Southampton': (50.9, {'humidity': 64, 'pressure': 1023, 'temp_max': 297.04, 'temp_min': 293.71, 'temp': 295.59}), 'London': (51.51, {'humidity': 73, 'pressure': 1023, 'temp_max': 298.15, 'temp_min': 291.48, 'temp': 295.02}), 'Kiev': (50.43, {'humidity': 38, 'pressure': 1020, 'temp_max': 288.15, 'temp_min': 287.15, 'temp': 287.81}), 'Moscow': (55.75, {'humidity': 53, 'pressure': 1013, 'temp_max': 283.15, 'temp_min': 279.82, 'temp': 281.44})}\n"
     ]
    }
   ],
   "source": [
    "# Implement Q2 pt 1 here\n",
    "# -----------------------\n",
    "weather_dict = {}\n",
    "\n",
    "for countrydata in Data:\n",
    "    weather_dict[countrydata['name']] = countrydata['coord']['lat'], countrydata['main']\n",
    "\n",
    "print(weather_dict)"
   ]
  },
  {
   "cell_type": "code",
   "execution_count": 9,
   "metadata": {
    "collapsed": false
   },
   "outputs": [],
   "source": [
    "def plot_weather_lattitude(weather_dictionary, var_name):\n",
    "    fig = plt.figure(figsize=(12, 5))\n",
    "    ax = fig.add_subplot(111)\n",
    "\n",
    "    for name, value in weather_dictionary.items():\n",
    "        ax.plot(value[0], value[1][var_name], 'bx')\n",
    "        ax.annotate(name, (value[0], value[1][var_name]))\n",
    "\n",
    "    ax.set_xlabel('Latitude')\n",
    "    ax.set_ylabel(var_name)\n"
   ]
  },
  {
   "cell_type": "code",
   "execution_count": 10,
   "metadata": {
    "collapsed": false
   },
   "outputs": [
    {
     "data": {
      "image/png": "[encoded data removed]",
      "text/plain": [
       "<matplotlib.figure.Figure at 0x7f8112e93048>"
      ]
     },
     "metadata": {},
     "output_type": "display_data"
    },
    {
     "data": {
      "image/png": "[encoded data removed]",
      "text/plain": [
       "<matplotlib.figure.Figure at 0x7f8112e06668>"
      ]
     },
     "metadata": {},
     "output_type": "display_data"
    },
    {
     "data": {
      "image/png": "[encoded data removed]",
      "text/plain": [
       "<matplotlib.figure.Figure at 0x7f8112dd9278>"
      ]
     },
     "metadata": {},
     "output_type": "display_data"
    },
    {
     "data": {
      "image/png": "[encoded data removed]",
      "text/plain": [
       "<matplotlib.figure.Figure at 0x7f8112d377f0>"
      ]
     },
     "metadata": {},
     "output_type": "display_data"
    },
    {
     "data": {
      "image/png": "[encoded data removed]",
      "text/plain": [
       "<matplotlib.figure.Figure at 0x7f8112d0a3c8>"
      ]
     },
     "metadata": {},
     "output_type": "display_data"
    }
   ],
   "source": [
    "# Here are the variables that should be in your data\n",
    "weather_vars = ['temp', 'temp_max', 'temp_min', 'pressure', 'humidity']\n",
    "\n",
    "# EXERCISE: Loop over the variable strings above and plot them \n",
    "for var_name in weather_vars:\n",
    "    plot_weather_lattitude(weather_dict, var_name)"
   ]
  },
  {
   "cell_type": "code",
   "execution_count": null,
   "metadata": {
    "collapsed": true
   },
   "outputs": [],
   "source": []
  }
 ],
 "metadata": {
  "kernelspec": {
   "display_name": "Python 3",
   "language": "python",
   "name": "python3"
  },
  "language_info": {
   "codemirror_mode": {
    "name": "ipython",
    "version": 3
   },
   "file_extension": ".py",
   "mimetype": "text/x-python",
   "name": "python",
   "nbconvert_exporter": "python",
   "pygments_lexer": "ipython3",
   "version": "3.5.1"
  }
 },
 "nbformat": 4,
 "nbformat_minor": 0
}

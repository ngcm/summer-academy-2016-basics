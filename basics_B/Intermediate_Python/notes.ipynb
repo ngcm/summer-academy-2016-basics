{
 "cells": [
  {
   "cell_type": "markdown",
   "metadata": {},
   "source": [
    "# NGCM Summer Academy 2016: Intermediate Python"
   ]
  },
  {
   "cell_type": "markdown",
   "metadata": {},
   "source": [
    "## Ideas/Notes\n",
    "\n",
    "* No material directly available\n",
    "* Look through IPython course from last year - see what is used implicitly and not covered in basics course\n",
    "* Basics course will be cloned from software carpentry \n",
    "* Useful Materials:\n",
    "\n",
    "> [Software Carpentry Basics course](https://github.com/softwaresaved/NGCMGSoton-2015-06-21)\n",
    "\n",
    "> [NGCM 2015 IPython Course](https://github.com/jupyter/ngcm-tutorial)\n",
    "\n",
    "> [Links to all last year materials:](https://github.com/ngcm/summer-academy-2015)\n",
    "\n",
    "> **[Advanced Python Course Notes](http://jacek.web.cern.ch/jacek/courses/python-intro/course.html#slide0)**\n",
    "\n",
    "* Ian said these may be necessary:\n",
    "    - Tuples\n",
    "    - Dictionaries\n",
    "    - Classes\n",
    "    - Generators\n",
    "* Paul would like to cover: \n",
    "    - Classes\n",
    "    - Inheritance\n",
    "    - Generators\n",
    "    \n",
    "* Should include similar exercises to live code\n",
    "* Include constant live code and constant exercises\n",
    "* Start and End slides may be useful\n",
    "    - Could use the ipython notebook slides tool for this?\n",
    "    - Or use ipython slides for the whole talk?\n"
   ]
  },
  {
   "cell_type": "markdown",
   "metadata": {
    "collapsed": true
   },
   "source": [
    "## Topics"
   ]
  },
  {
   "cell_type": "markdown",
   "metadata": {},
   "source": [
    "* [Introduction to Classes](notebooks/01-Classes.ipynb)\n",
    "* \n",
    "\n",
    "\n",
    "> \n"
   ]
  },
  {
   "cell_type": "markdown",
   "metadata": {},
   "source": [
    "### Basics"
   ]
  },
  {
   "cell_type": "markdown",
   "metadata": {},
   "source": [
    "### Iterators"
   ]
  },
  {
   "cell_type": "markdown",
   "metadata": {},
   "source": [
    "### Inheritance"
   ]
  },
  {
   "cell_type": "markdown",
   "metadata": {},
   "source": []
  },
  {
   "cell_type": "code",
   "execution_count": null,
   "metadata": {
    "collapsed": false
   },
   "outputs": [],
   "source": []
  }
 ],
 "metadata": {
  "kernelspec": {
   "display_name": "Python 3",
   "language": "python",
   "name": "python3"
  },
  "language_info": {
   "codemirror_mode": {
    "name": "ipython",
    "version": 3
   },
   "file_extension": ".py",
   "mimetype": "text/x-python",
   "name": "python",
   "nbconvert_exporter": "python",
   "pygments_lexer": "ipython3",
   "version": "3.5.1"
  }
 },
 "nbformat": 4,
 "nbformat_minor": 0
}
